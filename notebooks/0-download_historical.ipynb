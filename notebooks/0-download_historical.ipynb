{
 "cells": [
  {
   "cell_type": "code",
   "execution_count": 5,
   "metadata": {
    "collapsed": true,
    "pycharm": {
     "name": "#%%\n"
    }
   },
   "outputs": [
    {
     "name": "stdout",
     "output_type": "stream",
     "text": [
      "XOM\n",
      "(daily) already downloaded\n",
      "(monthly) already downloaded\n",
      "WMT\n",
      "(daily) already downloaded\n",
      "(monthly) already downloaded\n",
      "PG\n",
      "(daily) already downloaded\n",
      "(monthly) already downloaded\n",
      "MSFT\n",
      "(daily) already downloaded\n",
      "(monthly) already downloaded\n",
      "GE\n",
      "(daily) already downloaded\n",
      "(monthly) already downloaded\n",
      "T\n",
      "(daily) already downloaded\n",
      "(monthly) already downloaded\n",
      "JNJ\n",
      "(daily) already downloaded\n",
      "(monthly) already downloaded\n",
      "CVX\n",
      "(daily) already downloaded\n",
      "(monthly) already downloaded\n"
     ]
    }
   ],
   "source": [
    "from core.finance.context import Context\n",
    "\n",
    "ticks = [\"XOM\", \"WMT\", \"PG\", \"MSFT\",\n",
    "         \"GE\", \"T\", \"JNJ\", \"CVX\"]\n",
    "no_cache = False\n",
    "\n",
    "history_repository = Context().get_history_repository()\n",
    "ticker_repository = Context().get_ticker_repository()\n",
    "for tick in ticks:\n",
    "    print(tick)\n",
    "    if no_cache or not history_repository.is_history_exist(tick, True):\n",
    "        if not history_repository.download_daily(tick):\n",
    "            continue\n",
    "    else:\n",
    "        print(\"(daily) already downloaded\")\n",
    "    if no_cache or not history_repository.is_history_exist(tick):\n",
    "        history_repository.build_monthly_data(tick)\n",
    "    else:\n",
    "        print(\"(monthly) already downloaded\")"
   ]
  },
  {
   "cell_type": "code",
   "execution_count": 5,
   "outputs": [],
   "source": [],
   "metadata": {
    "collapsed": false,
    "pycharm": {
     "name": "#%%\n"
    }
   }
  }
 ],
 "metadata": {
  "kernelspec": {
   "display_name": "Python 3",
   "language": "python",
   "name": "python3"
  },
  "language_info": {
   "codemirror_mode": {
    "name": "ipython",
    "version": 2
   },
   "file_extension": ".py",
   "mimetype": "text/x-python",
   "name": "python",
   "nbconvert_exporter": "python",
   "pygments_lexer": "ipython2",
   "version": "2.7.6"
  }
 },
 "nbformat": 4,
 "nbformat_minor": 0
}