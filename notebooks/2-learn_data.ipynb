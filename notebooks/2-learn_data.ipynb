{
 "cells": [
  {
   "cell_type": "code",
   "execution_count": 3,
   "metadata": {
    "collapsed": true
   },
   "outputs": [],
   "source": [
    "import sys\n",
    "sys.path.append(\"../venv/lib/python3.8/site-packages\")\n",
    "\n",
    "from aae.extention.data_learning import DataLearning\n",
    "from aae.extention.aae import AAETrainingMethod\n",
    "from aae.core.optimizer import TransformingLRScheduler\n",
    "from core.finance.context import Context\n",
    "import random, numpy as np"
   ]
  },
  {
   "cell_type": "code",
   "execution_count": 4,
   "outputs": [
    {
     "name": "stdout",
     "output_type": "stream",
     "text": [
      "start_learning Apr 01, 2008\n",
      "0 KLCost(Non-Converted) 2.4865027424164503\n",
      "0 KLCost(Converted) 3.5192282226807343\n",
      "0 MMDCost(Non-Converted) 0.07497617791308624\n",
      "0 MMDCost(Converted) 0.181237621790249\n",
      "1 KLCost(Non-Converted) 2.8003114972458176\n",
      "1 KLCost(Converted) 2.597948144229633\n",
      "1 MMDCost(Non-Converted) 0.06262183954533629\n",
      "1 MMDCost(Converted) 0.16378890978873875\n",
      "2 KLCost(Non-Converted) 3.0489942559585232\n",
      "2 KLCost(Converted) 2.342135097580174\n",
      "2 MMDCost(Non-Converted) 0.06401936984724321\n",
      "2 MMDCost(Converted) 0.15669015270919331\n",
      "3 KLCost(Non-Converted) 2.5830062947026846\n",
      "3 KLCost(Converted) 1.8388171621929839\n",
      "3 MMDCost(Non-Converted) 0.05892953512287884\n",
      "3 MMDCost(Converted) 0.15266630714545765\n",
      "4 KLCost(Non-Converted) 2.8682524859086946\n",
      "4 KLCost(Converted) 1.4658060010498108\n",
      "4 MMDCost(Non-Converted) 0.05669067278408088\n",
      "4 MMDCost(Converted) 0.14988195447148367\n",
      "5 KLCost(Non-Converted) 2.6189674711733426\n",
      "5 KLCost(Converted) 1.2397940879505063\n",
      "5 MMDCost(Non-Converted) 0.05553955007632788\n",
      "5 MMDCost(Converted) 0.14206846716856034\n",
      "6 KLCost(Non-Converted) 2.273364125278208\n",
      "6 KLCost(Converted) 0.9873111073482453\n",
      "6 MMDCost(Non-Converted) 0.05139424604567537\n",
      "6 MMDCost(Converted) 0.12268321579540468\n",
      "7 KLCost(Non-Converted) 1.8957759655983957\n",
      "7 KLCost(Converted) 0.7577270183082455\n",
      "7 MMDCost(Non-Converted) 0.04532907863517873\n",
      "7 MMDCost(Converted) 0.09243018472661625\n",
      "8 KLCost(Non-Converted) 1.5678389782913864\n",
      "8 KLCost(Converted) 0.7866486094832436\n",
      "8 MMDCost(Non-Converted) 0.04297588640747341\n",
      "8 MMDCost(Converted) 0.06004403531846495\n",
      "9 KLCost(Non-Converted) 1.6903146040814783\n",
      "9 KLCost(Converted) 0.7451228298894702\n",
      "9 MMDCost(Non-Converted) 0.043797183528596184\n",
      "9 MMDCost(Converted) 0.031051859186891646\n",
      "10 KLCost(Non-Converted) 1.7877469208730765\n",
      "10 KLCost(Converted) 0.7987543601332683\n",
      "10 MMDCost(Non-Converted) 0.044276545297809826\n",
      "10 MMDCost(Converted) 0.01938771964885668\n",
      "11 KLCost(Non-Converted) 1.8110487196266696\n",
      "11 KLCost(Converted) 1.101612239166576\n",
      "11 MMDCost(Non-Converted) 0.04532810542270956\n",
      "11 MMDCost(Converted) 0.019909041057442317\n"
     ]
    },
    {
     "name": "stderr",
     "output_type": "stream",
     "text": [
      "\n",
      "KeyboardInterrupt\n",
      "\n"
     ]
    }
   ],
   "source": [
    "nqubit = 6\n",
    "layer = 12\n",
    "TIME_SPAN = 5\n",
    "START = 0\n",
    "FINISH = 7\n",
    "ticks = [\"XOM\", \"WMT\", \"PG\", \"MSFT\",\n",
    "         \"GE\", \"T\", \"JNJ\", \"CVX\"]\n",
    "MODEL_FORMAT = \"../models/data_{}_{}_{}.json\"\n",
    "ENERGY_FORMAT = \"../reports/energy/data_{}_{}_{}.json\"\n",
    "\n",
    "scheduler = TransformingLRScheduler(lr=0.1)\n",
    "scheduler.schedule(100, 0.01)\n",
    "\n",
    "context = Context()\n",
    "repository = context.get_coefficient_repository()\n",
    "context.get_history_repository()\n",
    "\n",
    "data_learning = DataLearning(nqubit, layer, type=\"qulacs\")\n",
    "training_method = AAETrainingMethod(iteration=200, lr_scheduler=scheduler, idblock=False)\n",
    "for loop in range(0, 10):\n",
    "    for index in [1, 3, 4, 5, 6, 7]:\n",
    "        date = repository.get_date(index)\n",
    "        print(\"start_learning {}\".format(date))\n",
    "        seed = index + 31 * loop\n",
    "        random.seed(seed)\n",
    "        matrix = repository.load(TIME_SPAN, index, ticks)\n",
    "        array = matrix.flatten()\n",
    "        vector = data_learning.learn(array, training_method=training_method)\n",
    "        overlap = abs(np.array(array).dot(np.array(vector)))\n",
    "        print(\"overlap\", overlap)\n",
    "        print(training_method.get_cost(data_learning.sampler))\n",
    "        data_learning.save_model(MODEL_FORMAT.format(TIME_SPAN, index, seed), overlap)\n",
    "        data_learning.save_cost_transition(ENERGY_FORMAT.format(TIME_SPAN, index, seed))"
   ],
   "metadata": {
    "collapsed": false,
    "pycharm": {
     "name": "#%%\n"
    }
   }
  }
 ],
 "metadata": {
  "kernelspec": {
   "display_name": "Python 3",
   "language": "python",
   "name": "python3"
  },
  "language_info": {
   "codemirror_mode": {
    "name": "ipython",
    "version": 2
   },
   "file_extension": ".py",
   "mimetype": "text/x-python",
   "name": "python",
   "nbconvert_exporter": "python",
   "pygments_lexer": "ipython2",
   "version": "2.7.6"
  }
 },
 "nbformat": 4,
 "nbformat_minor": 0
}